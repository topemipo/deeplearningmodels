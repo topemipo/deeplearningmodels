{
 "cells": [
  {
   "cell_type": "code",
   "execution_count": 6,
   "metadata": {},
   "outputs": [
    {
     "name": "stdout",
     "output_type": "stream",
     "text": [
      "(150, 150, 3)\n",
      "Predicted class: daisy\n"
     ]
    }
   ],
   "source": [
    "import tensorflow as tf\n",
    "from tensorflow.keras.models import load_model\n",
    "from tensorflow.keras.preprocessing.image import load_img, img_to_array\n",
    "import numpy as np\n",
    "\n",
    "# Load the saved model\n",
    "model = load_model('flower_cnn_model.keras')\n",
    "\n",
    "# Pre-compile the prediction function\n",
    "@tf.function(reduce_retracing=True)\n",
    "def predict_once(input_tensor):\n",
    "    return model(input_tensor)\n",
    "\n",
    "# Path to the image\n",
    "image_path = 'images/sample_dandelion.jpg'\n",
    "\n",
    "# Load and preprocess the image\n",
    "img_height, img_width = 150, 150\n",
    "test_image = load_img(image_path, target_size=(img_height, img_width))\n",
    "test_image = img_to_array(test_image)\n",
    "print(test_image.shape)\n",
    "test_image = test_image / 255.0\n",
    "test_image = np.expand_dims(test_image, axis=0)\n",
    "\n",
    "# Make a prediction\n",
    "predictions = predict_once(test_image)\n",
    "predicted_class = np.argmax(predictions)\n",
    "\n",
    "# Class names (example)\n",
    "class_names = ['daisy', 'dandelion', 'roses', 'sunflowers', 'tulips']\n",
    "print(f\"Predicted class: {class_names[predicted_class]}\")\n"
   ]
  },
  {
   "cell_type": "code",
   "execution_count": null,
   "metadata": {},
   "outputs": [
    {
     "name": "stdout",
     "output_type": "stream",
     "text": [
      "(150, 150, 3)\n",
      "Predicted class: daisy\n"
     ]
    }
   ],
   "source": [
    "import tensorflow as tf\n",
    "from tensorflow.keras.models import load_model\n",
    "from tensorflow.keras.preprocessing.image import load_img, img_to_array\n",
    "import numpy as np\n",
    "\n",
    "# Load the saved model\n",
    "model = load_model('flower_cnn_model.keras')\n",
    "\n",
    "# Pre-compile the prediction function\n",
    "@tf.function(reduce_retracing=True)\n",
    "def predict_once(input_tensor):\n",
    "    return model(input_tensor)\n",
    "\n",
    "# Path to the image\n",
    "image_path = 'images/sample_dandelion.jpg'\n",
    "\n",
    "# Load and preprocess the image\n",
    "img_height, img_width = 150, 150\n",
    "test_image = load_img(image_path, target_size=(img_height, img_width))\n",
    "test_image = img_to_array(test_image)\n",
    "print(test_image.shape)\n",
    "test_image = test_image / 255.0\n",
    "test_image = np.expand_dims(test_image, axis=0)\n",
    "\n",
    "# Make a prediction\n",
    "predictions = predict_once(test_image)\n",
    "predicted_class = np.argmax(predictions)\n",
    "\n",
    "# Class names (example)\n",
    "class_names = ['daisy', 'dandelion', 'roses', 'sunflowers', 'tulips']\n",
    "print(f\"Predicted class: {class_names[predicted_class]}\")\n"
   ]
  }
 ],
 "metadata": {
  "kernelspec": {
   "display_name": ".venv",
   "language": "python",
   "name": "python3"
  },
  "language_info": {
   "codemirror_mode": {
    "name": "ipython",
    "version": 3
   },
   "file_extension": ".py",
   "mimetype": "text/x-python",
   "name": "python",
   "nbconvert_exporter": "python",
   "pygments_lexer": "ipython3",
   "version": "3.9.6"
  }
 },
 "nbformat": 4,
 "nbformat_minor": 2
}
